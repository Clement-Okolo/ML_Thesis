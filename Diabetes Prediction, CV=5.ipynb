{
 "cells": [
  {
   "cell_type": "markdown",
   "id": "b275f2b5",
   "metadata": {},
   "source": [
    "**Dataset:**  National Health and Nutrition Examination Survey\n",
    "\n",
    "**Label:** Glycohemoglobin - also known as glycosylated hemoglobin, hemoglobin to which glucose is bound, *a measure of the long-term control of diabetes mellitus*. The level of glycohemoglobin is increased in the red blood cells of persons with poorly controlled diabetes mellitus.\n",
    "\n",
    "According to Glycohemoglobin, \n",
    "0-> Normal status \n",
    "1-> High-risk diabetes \n",
    "2-> Diabetes patients"
   ]
  },
  {
   "cell_type": "markdown",
   "id": "7cc05c2e",
   "metadata": {},
   "source": [
    "# Libraries"
   ]
  },
  {
   "cell_type": "code",
   "execution_count": 1,
   "id": "7b2c3924",
   "metadata": {},
   "outputs": [],
   "source": [
    "# load data\n",
    "import os\n",
    "import pandas as pd\n",
    "\n",
    "# numpy\n",
    "import numpy as np\n",
    "\n",
    "#sklearn\n",
    "from sklearn.feature_selection import VarianceThreshold\n",
    "from sklearn.datasets import fetch_openml\n",
    "from sklearn.linear_model import SGDClassifier\n",
    "from sklearn.tree import DecisionTreeClassifier\n",
    "from sklearn.tree import DecisionTreeRegressor\n",
    "from sklearn.model_selection import StratifiedKFold\n",
    "from sklearn.base import clone\n",
    "\n",
    "# matplotlib\n",
    "import matplotlib as mpl\n",
    "import matplotlib.pyplot as plt\n",
    "mpl.rc('axes', labelsize=14)\n",
    "mpl.rc('xtick', labelsize=12)\n",
    "mpl.rc('ytick', labelsize=12)\n",
    "\n",
    "# seaborn\n",
    "import seaborn as sns\n",
    "\n",
    "# to make this notebook's output stable across runs\n",
    "np.random.seed(42)"
   ]
  },
  {
   "cell_type": "markdown",
   "id": "5c6df48e",
   "metadata": {},
   "source": [
    "# Load Data"
   ]
  },
  {
   "cell_type": "code",
   "execution_count": 2,
   "id": "1ca97bb0",
   "metadata": {},
   "outputs": [],
   "source": [
    "DIABETES_PATH = os.path.join(\"datasets\", \"diabetes\")\n",
    "\n",
    "def load_data(filename, diabetes_path=DIABETES_PATH):\n",
    "    csv_path = os.path.join(diabetes_path, filename)\n",
    "    return pd.read_csv(csv_path)\n"
   ]
  },
  {
   "cell_type": "code",
   "execution_count": 3,
   "id": "235f688a",
   "metadata": {},
   "outputs": [],
   "source": [
    "df1 = load_data(\"labs.csv\")\n",
    "df2 = load_data(\"examination.csv\")\n",
    "df3 = load_data(\"demographic.csv\")\n",
    "df4 = load_data(\"diet.csv\")\n",
    "df5 = load_data(\"questionnaire.csv\")\n"
   ]
  },
  {
   "cell_type": "markdown",
   "id": "024dbf38",
   "metadata": {},
   "source": [
    "# Exploratory Data Analysis"
   ]
  },
  {
   "cell_type": "code",
   "execution_count": 4,
   "id": "3f84fa8b",
   "metadata": {
    "scrolled": true
   },
   "outputs": [
    {
     "name": "stdout",
     "output_type": "stream",
     "text": [
      "<class 'pandas.core.frame.DataFrame'>\n",
      "RangeIndex: 9813 entries, 0 to 9812\n",
      "Columns: 424 entries, SEQN to LBDB12SI\n",
      "dtypes: float64(423), int64(1)\n",
      "memory usage: 31.7 MB\n"
     ]
    }
   ],
   "source": [
    "df1.info()"
   ]
  },
  {
   "cell_type": "code",
   "execution_count": 5,
   "id": "c99abf11",
   "metadata": {},
   "outputs": [
    {
     "name": "stdout",
     "output_type": "stream",
     "text": [
      "<class 'pandas.core.frame.DataFrame'>\n",
      "RangeIndex: 9813 entries, 0 to 9812\n",
      "Columns: 224 entries, SEQN to CSAEFFRT\n",
      "dtypes: float64(192), int64(3), object(29)\n",
      "memory usage: 16.8+ MB\n"
     ]
    }
   ],
   "source": [
    "df2.info()"
   ]
  },
  {
   "cell_type": "code",
   "execution_count": 6,
   "id": "41c15f79",
   "metadata": {},
   "outputs": [
    {
     "name": "stdout",
     "output_type": "stream",
     "text": [
      "<class 'pandas.core.frame.DataFrame'>\n",
      "RangeIndex: 10175 entries, 0 to 10174\n",
      "Data columns (total 47 columns):\n",
      " #   Column    Non-Null Count  Dtype  \n",
      "---  ------    --------------  -----  \n",
      " 0   SEQN      10175 non-null  int64  \n",
      " 1   SDDSRVYR  10175 non-null  int64  \n",
      " 2   RIDSTATR  10175 non-null  int64  \n",
      " 3   RIAGENDR  10175 non-null  int64  \n",
      " 4   RIDAGEYR  10175 non-null  int64  \n",
      " 5   RIDAGEMN  673 non-null    float64\n",
      " 6   RIDRETH1  10175 non-null  int64  \n",
      " 7   RIDRETH3  10175 non-null  int64  \n",
      " 8   RIDEXMON  9813 non-null   float64\n",
      " 9   RIDEXAGM  4213 non-null   float64\n",
      " 10  DMQMILIZ  6261 non-null   float64\n",
      " 11  DMQADFC   543 non-null    float64\n",
      " 12  DMDBORN4  10175 non-null  int64  \n",
      " 13  DMDCITZN  10171 non-null  float64\n",
      " 14  DMDYRSUS  1908 non-null   float64\n",
      " 15  DMDEDUC3  2803 non-null   float64\n",
      " 16  DMDEDUC2  5769 non-null   float64\n",
      " 17  DMDMARTL  5769 non-null   float64\n",
      " 18  RIDEXPRG  1309 non-null   float64\n",
      " 19  SIALANG   10175 non-null  int64  \n",
      " 20  SIAPROXY  10174 non-null  float64\n",
      " 21  SIAINTRP  10175 non-null  int64  \n",
      " 22  FIALANG   10054 non-null  float64\n",
      " 23  FIAPROXY  10054 non-null  float64\n",
      " 24  FIAINTRP  10054 non-null  float64\n",
      " 25  MIALANG   7311 non-null   float64\n",
      " 26  MIAPROXY  7312 non-null   float64\n",
      " 27  MIAINTRP  7313 non-null   float64\n",
      " 28  AIALANGA  6317 non-null   float64\n",
      " 29  DMDHHSIZ  10175 non-null  int64  \n",
      " 30  DMDFMSIZ  10175 non-null  int64  \n",
      " 31  DMDHHSZA  10175 non-null  int64  \n",
      " 32  DMDHHSZB  10175 non-null  int64  \n",
      " 33  DMDHHSZE  10175 non-null  int64  \n",
      " 34  DMDHRGND  10175 non-null  int64  \n",
      " 35  DMDHRAGE  10175 non-null  int64  \n",
      " 36  DMDHRBR4  9878 non-null   float64\n",
      " 37  DMDHREDU  9881 non-null   float64\n",
      " 38  DMDHRMAR  10052 non-null  float64\n",
      " 39  DMDHSEDU  5342 non-null   float64\n",
      " 40  WTINT2YR  10175 non-null  float64\n",
      " 41  WTMEC2YR  10175 non-null  float64\n",
      " 42  SDMVPSU   10175 non-null  int64  \n",
      " 43  SDMVSTRA  10175 non-null  int64  \n",
      " 44  INDHHIN2  10042 non-null  float64\n",
      " 45  INDFMIN2  10052 non-null  float64\n",
      " 46  INDFMPIR  9390 non-null   float64\n",
      "dtypes: float64(28), int64(19)\n",
      "memory usage: 3.6 MB\n"
     ]
    }
   ],
   "source": [
    "df3.info()"
   ]
  },
  {
   "cell_type": "code",
   "execution_count": 7,
   "id": "37428c89",
   "metadata": {},
   "outputs": [
    {
     "name": "stdout",
     "output_type": "stream",
     "text": [
      "<class 'pandas.core.frame.DataFrame'>\n",
      "RangeIndex: 9813 entries, 0 to 9812\n",
      "Columns: 168 entries, SEQN to DRD370V\n",
      "dtypes: float64(166), int64(2)\n",
      "memory usage: 12.6 MB\n"
     ]
    }
   ],
   "source": [
    "df4.info()"
   ]
  },
  {
   "cell_type": "code",
   "execution_count": 8,
   "id": "fdc381ab",
   "metadata": {},
   "outputs": [
    {
     "name": "stdout",
     "output_type": "stream",
     "text": [
      "<class 'pandas.core.frame.DataFrame'>\n",
      "RangeIndex: 10175 entries, 0 to 10174\n",
      "Columns: 953 entries, SEQN to WHQ520\n",
      "dtypes: float64(944), int64(7), object(2)\n",
      "memory usage: 74.0+ MB\n"
     ]
    }
   ],
   "source": [
    "df5.info()"
   ]
  },
  {
   "cell_type": "markdown",
   "id": "f5f16ee7",
   "metadata": {},
   "source": [
    "# Data Preparation"
   ]
  },
  {
   "cell_type": "markdown",
   "id": "d3199676",
   "metadata": {},
   "source": [
    "**Drop \"SEQN\" Column:**"
   ]
  },
  {
   "cell_type": "code",
   "execution_count": 9,
   "id": "32ed10bb",
   "metadata": {},
   "outputs": [],
   "source": [
    "df2.drop(['SEQN'], axis = 1, inplace=True)\n",
    "df3.drop(['SEQN'], axis = 1, inplace=True)\n",
    "df4.drop(['SEQN'], axis = 1, inplace=True)\n",
    "df5.drop(['SEQN'], axis = 1, inplace=True)"
   ]
  },
  {
   "cell_type": "markdown",
   "id": "5d632981",
   "metadata": {},
   "source": [
    "**Concatenate Datasets**"
   ]
  },
  {
   "cell_type": "code",
   "execution_count": 10,
   "id": "6884ec2f",
   "metadata": {},
   "outputs": [],
   "source": [
    "df = pd.concat([df1, df2], axis=1, join='inner')\n",
    "df = pd.concat([df, df3], axis=1, join='inner')\n",
    "df = pd.concat([df, df4], axis=1, join='inner')\n",
    "df = pd.concat([df, df5], axis=1, join='inner')"
   ]
  },
  {
   "cell_type": "code",
   "execution_count": 11,
   "id": "066c6e30",
   "metadata": {},
   "outputs": [
    {
     "name": "stdout",
     "output_type": "stream",
     "text": [
      "<class 'pandas.core.frame.DataFrame'>\n",
      "RangeIndex: 9813 entries, 0 to 9812\n",
      "Columns: 1812 entries, SEQN to WHQ520\n",
      "dtypes: float64(1753), int64(28), object(31)\n",
      "memory usage: 135.7+ MB\n"
     ]
    }
   ],
   "source": [
    "df.info()"
   ]
  },
  {
   "cell_type": "code",
   "execution_count": 12,
   "id": "b14237c3",
   "metadata": {},
   "outputs": [
    {
     "data": {
      "text/html": [
       "<div>\n",
       "<style scoped>\n",
       "    .dataframe tbody tr th:only-of-type {\n",
       "        vertical-align: middle;\n",
       "    }\n",
       "\n",
       "    .dataframe tbody tr th {\n",
       "        vertical-align: top;\n",
       "    }\n",
       "\n",
       "    .dataframe thead th {\n",
       "        text-align: right;\n",
       "    }\n",
       "</style>\n",
       "<table border=\"1\" class=\"dataframe\">\n",
       "  <thead>\n",
       "    <tr style=\"text-align: right;\">\n",
       "      <th></th>\n",
       "      <th>SEQN</th>\n",
       "      <th>URXUMA</th>\n",
       "      <th>URXUMS</th>\n",
       "      <th>URXUCR.x</th>\n",
       "      <th>URXCRS</th>\n",
       "      <th>URDACT</th>\n",
       "      <th>WTSAF2YR.x</th>\n",
       "      <th>LBXAPB</th>\n",
       "      <th>LBDAPBSI</th>\n",
       "      <th>LBXSAL</th>\n",
       "      <th>...</th>\n",
       "      <th>WHD080U</th>\n",
       "      <th>WHD080L</th>\n",
       "      <th>WHD110</th>\n",
       "      <th>WHD120</th>\n",
       "      <th>WHD130</th>\n",
       "      <th>WHD140</th>\n",
       "      <th>WHQ150</th>\n",
       "      <th>WHQ030M</th>\n",
       "      <th>WHQ500</th>\n",
       "      <th>WHQ520</th>\n",
       "    </tr>\n",
       "  </thead>\n",
       "  <tbody>\n",
       "    <tr>\n",
       "      <th>count</th>\n",
       "      <td>9813.000000</td>\n",
       "      <td>8052.000000</td>\n",
       "      <td>8052.000000</td>\n",
       "      <td>8052.000000</td>\n",
       "      <td>8052.000000</td>\n",
       "      <td>8052.000000</td>\n",
       "      <td>3329.000000</td>\n",
       "      <td>3145.000000</td>\n",
       "      <td>3145.000000</td>\n",
       "      <td>6553.000000</td>\n",
       "      <td>...</td>\n",
       "      <td>14.0</td>\n",
       "      <td>28.0</td>\n",
       "      <td>4036.000000</td>\n",
       "      <td>4842.000000</td>\n",
       "      <td>2667.000000</td>\n",
       "      <td>5879.000000</td>\n",
       "      <td>5800.000000</td>\n",
       "      <td>1424.000000</td>\n",
       "      <td>1424.000000</td>\n",
       "      <td>1424.000000</td>\n",
       "    </tr>\n",
       "    <tr>\n",
       "      <th>mean</th>\n",
       "      <td>78644.559971</td>\n",
       "      <td>41.218854</td>\n",
       "      <td>41.218854</td>\n",
       "      <td>121.072529</td>\n",
       "      <td>10702.811525</td>\n",
       "      <td>41.905695</td>\n",
       "      <td>78917.195254</td>\n",
       "      <td>85.898569</td>\n",
       "      <td>0.858986</td>\n",
       "      <td>4.282085</td>\n",
       "      <td>...</td>\n",
       "      <td>35.0</td>\n",
       "      <td>40.0</td>\n",
       "      <td>413.440287</td>\n",
       "      <td>567.920074</td>\n",
       "      <td>373.831646</td>\n",
       "      <td>315.447355</td>\n",
       "      <td>574.222069</td>\n",
       "      <td>2.586376</td>\n",
       "      <td>2.295646</td>\n",
       "      <td>1.747893</td>\n",
       "    </tr>\n",
       "    <tr>\n",
       "      <th>std</th>\n",
       "      <td>2938.592266</td>\n",
       "      <td>238.910226</td>\n",
       "      <td>238.910226</td>\n",
       "      <td>78.574882</td>\n",
       "      <td>6946.019595</td>\n",
       "      <td>276.261093</td>\n",
       "      <td>71088.020067</td>\n",
       "      <td>25.595258</td>\n",
       "      <td>0.255953</td>\n",
       "      <td>0.343649</td>\n",
       "      <td>...</td>\n",
       "      <td>0.0</td>\n",
       "      <td>0.0</td>\n",
       "      <td>1511.368399</td>\n",
       "      <td>1975.492188</td>\n",
       "      <td>1716.831150</td>\n",
       "      <td>1075.040013</td>\n",
       "      <td>7288.930842</td>\n",
       "      <td>0.782529</td>\n",
       "      <td>1.210905</td>\n",
       "      <td>0.707600</td>\n",
       "    </tr>\n",
       "    <tr>\n",
       "      <th>min</th>\n",
       "      <td>73557.000000</td>\n",
       "      <td>0.210000</td>\n",
       "      <td>0.210000</td>\n",
       "      <td>5.000000</td>\n",
       "      <td>442.000000</td>\n",
       "      <td>0.210000</td>\n",
       "      <td>0.000000</td>\n",
       "      <td>20.000000</td>\n",
       "      <td>0.200000</td>\n",
       "      <td>2.400000</td>\n",
       "      <td>...</td>\n",
       "      <td>35.0</td>\n",
       "      <td>40.0</td>\n",
       "      <td>75.000000</td>\n",
       "      <td>55.000000</td>\n",
       "      <td>50.000000</td>\n",
       "      <td>85.000000</td>\n",
       "      <td>10.000000</td>\n",
       "      <td>1.000000</td>\n",
       "      <td>1.000000</td>\n",
       "      <td>1.000000</td>\n",
       "    </tr>\n",
       "    <tr>\n",
       "      <th>25%</th>\n",
       "      <td>76092.000000</td>\n",
       "      <td>4.500000</td>\n",
       "      <td>4.500000</td>\n",
       "      <td>60.000000</td>\n",
       "      <td>5304.000000</td>\n",
       "      <td>5.020000</td>\n",
       "      <td>33217.405018</td>\n",
       "      <td>68.000000</td>\n",
       "      <td>0.680000</td>\n",
       "      <td>4.100000</td>\n",
       "      <td>...</td>\n",
       "      <td>35.0</td>\n",
       "      <td>40.0</td>\n",
       "      <td>140.000000</td>\n",
       "      <td>125.000000</td>\n",
       "      <td>63.000000</td>\n",
       "      <td>155.000000</td>\n",
       "      <td>25.000000</td>\n",
       "      <td>3.000000</td>\n",
       "      <td>1.000000</td>\n",
       "      <td>1.000000</td>\n",
       "    </tr>\n",
       "    <tr>\n",
       "      <th>50%</th>\n",
       "      <td>78643.000000</td>\n",
       "      <td>8.400000</td>\n",
       "      <td>8.400000</td>\n",
       "      <td>106.000000</td>\n",
       "      <td>9370.400000</td>\n",
       "      <td>7.780000</td>\n",
       "      <td>56397.702304</td>\n",
       "      <td>84.000000</td>\n",
       "      <td>0.840000</td>\n",
       "      <td>4.300000</td>\n",
       "      <td>...</td>\n",
       "      <td>35.0</td>\n",
       "      <td>40.0</td>\n",
       "      <td>165.000000</td>\n",
       "      <td>150.000000</td>\n",
       "      <td>66.000000</td>\n",
       "      <td>185.000000</td>\n",
       "      <td>38.000000</td>\n",
       "      <td>3.000000</td>\n",
       "      <td>2.000000</td>\n",
       "      <td>2.000000</td>\n",
       "    </tr>\n",
       "    <tr>\n",
       "      <th>75%</th>\n",
       "      <td>81191.000000</td>\n",
       "      <td>17.625000</td>\n",
       "      <td>17.625000</td>\n",
       "      <td>163.000000</td>\n",
       "      <td>14409.200000</td>\n",
       "      <td>15.295000</td>\n",
       "      <td>99356.561999</td>\n",
       "      <td>101.000000</td>\n",
       "      <td>1.010000</td>\n",
       "      <td>4.500000</td>\n",
       "      <td>...</td>\n",
       "      <td>35.0</td>\n",
       "      <td>40.0</td>\n",
       "      <td>198.000000</td>\n",
       "      <td>180.000000</td>\n",
       "      <td>70.000000</td>\n",
       "      <td>225.000000</td>\n",
       "      <td>53.000000</td>\n",
       "      <td>3.000000</td>\n",
       "      <td>3.000000</td>\n",
       "      <td>2.000000</td>\n",
       "    </tr>\n",
       "    <tr>\n",
       "      <th>max</th>\n",
       "      <td>83731.000000</td>\n",
       "      <td>9600.000000</td>\n",
       "      <td>9600.000000</td>\n",
       "      <td>659.000000</td>\n",
       "      <td>58255.600000</td>\n",
       "      <td>9000.000000</td>\n",
       "      <td>395978.465792</td>\n",
       "      <td>234.000000</td>\n",
       "      <td>2.340000</td>\n",
       "      <td>5.600000</td>\n",
       "      <td>...</td>\n",
       "      <td>35.0</td>\n",
       "      <td>40.0</td>\n",
       "      <td>9999.000000</td>\n",
       "      <td>9999.000000</td>\n",
       "      <td>9999.000000</td>\n",
       "      <td>9999.000000</td>\n",
       "      <td>99999.000000</td>\n",
       "      <td>9.000000</td>\n",
       "      <td>9.000000</td>\n",
       "      <td>9.000000</td>\n",
       "    </tr>\n",
       "  </tbody>\n",
       "</table>\n",
       "<p>8 rows × 1781 columns</p>\n",
       "</div>"
      ],
      "text/plain": [
       "               SEQN       URXUMA       URXUMS     URXUCR.x        URXCRS  \\\n",
       "count   9813.000000  8052.000000  8052.000000  8052.000000   8052.000000   \n",
       "mean   78644.559971    41.218854    41.218854   121.072529  10702.811525   \n",
       "std     2938.592266   238.910226   238.910226    78.574882   6946.019595   \n",
       "min    73557.000000     0.210000     0.210000     5.000000    442.000000   \n",
       "25%    76092.000000     4.500000     4.500000    60.000000   5304.000000   \n",
       "50%    78643.000000     8.400000     8.400000   106.000000   9370.400000   \n",
       "75%    81191.000000    17.625000    17.625000   163.000000  14409.200000   \n",
       "max    83731.000000  9600.000000  9600.000000   659.000000  58255.600000   \n",
       "\n",
       "            URDACT     WTSAF2YR.x       LBXAPB     LBDAPBSI       LBXSAL  ...  \\\n",
       "count  8052.000000    3329.000000  3145.000000  3145.000000  6553.000000  ...   \n",
       "mean     41.905695   78917.195254    85.898569     0.858986     4.282085  ...   \n",
       "std     276.261093   71088.020067    25.595258     0.255953     0.343649  ...   \n",
       "min       0.210000       0.000000    20.000000     0.200000     2.400000  ...   \n",
       "25%       5.020000   33217.405018    68.000000     0.680000     4.100000  ...   \n",
       "50%       7.780000   56397.702304    84.000000     0.840000     4.300000  ...   \n",
       "75%      15.295000   99356.561999   101.000000     1.010000     4.500000  ...   \n",
       "max    9000.000000  395978.465792   234.000000     2.340000     5.600000  ...   \n",
       "\n",
       "       WHD080U  WHD080L       WHD110       WHD120       WHD130       WHD140  \\\n",
       "count     14.0     28.0  4036.000000  4842.000000  2667.000000  5879.000000   \n",
       "mean      35.0     40.0   413.440287   567.920074   373.831646   315.447355   \n",
       "std        0.0      0.0  1511.368399  1975.492188  1716.831150  1075.040013   \n",
       "min       35.0     40.0    75.000000    55.000000    50.000000    85.000000   \n",
       "25%       35.0     40.0   140.000000   125.000000    63.000000   155.000000   \n",
       "50%       35.0     40.0   165.000000   150.000000    66.000000   185.000000   \n",
       "75%       35.0     40.0   198.000000   180.000000    70.000000   225.000000   \n",
       "max       35.0     40.0  9999.000000  9999.000000  9999.000000  9999.000000   \n",
       "\n",
       "             WHQ150      WHQ030M       WHQ500       WHQ520  \n",
       "count   5800.000000  1424.000000  1424.000000  1424.000000  \n",
       "mean     574.222069     2.586376     2.295646     1.747893  \n",
       "std     7288.930842     0.782529     1.210905     0.707600  \n",
       "min       10.000000     1.000000     1.000000     1.000000  \n",
       "25%       25.000000     3.000000     1.000000     1.000000  \n",
       "50%       38.000000     3.000000     2.000000     2.000000  \n",
       "75%       53.000000     3.000000     3.000000     2.000000  \n",
       "max    99999.000000     9.000000     9.000000     9.000000  \n",
       "\n",
       "[8 rows x 1781 columns]"
      ]
     },
     "execution_count": 12,
     "metadata": {},
     "output_type": "execute_result"
    }
   ],
   "source": [
    "df.describe()"
   ]
  },
  {
   "cell_type": "code",
   "execution_count": 13,
   "id": "7d5151f8",
   "metadata": {},
   "outputs": [
    {
     "name": "stdout",
     "output_type": "stream",
     "text": [
      "<class 'pandas.core.frame.DataFrame'>\n",
      "RangeIndex: 9813 entries, 0 to 9812\n",
      "Data columns (total 1 columns):\n",
      " #   Column   Non-Null Count  Dtype  \n",
      "---  ------   --------------  -----  \n",
      " 0   WHD080U  14 non-null     float64\n",
      "dtypes: float64(1)\n",
      "memory usage: 76.8 KB\n"
     ]
    }
   ],
   "source": [
    "df[[\"WHD080U\"]].info()"
   ]
  },
  {
   "cell_type": "code",
   "execution_count": 14,
   "id": "bdf7cea5",
   "metadata": {},
   "outputs": [
    {
     "name": "stdout",
     "output_type": "stream",
     "text": [
      "<class 'pandas.core.frame.DataFrame'>\n",
      "RangeIndex: 9813 entries, 0 to 9812\n",
      "Data columns (total 1 columns):\n",
      " #   Column   Non-Null Count  Dtype  \n",
      "---  ------   --------------  -----  \n",
      " 0   WHD080L  28 non-null     float64\n",
      "dtypes: float64(1)\n",
      "memory usage: 76.8 KB\n"
     ]
    }
   ],
   "source": [
    "df[[\"WHD080L\"]].info()"
   ]
  },
  {
   "cell_type": "markdown",
   "id": "777dfa22",
   "metadata": {},
   "source": [
    "# Feature Engineering"
   ]
  },
  {
   "cell_type": "markdown",
   "id": "e70fa1a9",
   "metadata": {},
   "source": [
    "**Rename Columns**"
   ]
  },
  {
   "cell_type": "code",
   "execution_count": 15,
   "id": "a9649307",
   "metadata": {},
   "outputs": [],
   "source": [
    "df = df.rename(columns = {'SEQN' : 'ID',\n",
    "                          'RIAGENDR' : 'Gender',\n",
    "                          'DMDYRSUS' : 'Years_in_US', # Nan -> american i guess\n",
    "                          'INDFMPIR' : 'Family_income',\n",
    "                          'LBXGH' : 'GlycoHemoglobin',\n",
    "                          'BMXARMC' : 'ArmCircum',\n",
    "                          'BMDAVSAD' : 'SaggitalAbdominal',\n",
    "                          'MGDCGSZ' : 'GripStrength',\n",
    "                          'DRABF' : 'Breast_fed'})"
   ]
  },
  {
   "cell_type": "markdown",
   "id": "fa8e9fbe",
   "metadata": {},
   "source": [
    "**Select Columns**"
   ]
  },
  {
   "cell_type": "code",
   "execution_count": 16,
   "id": "9e99e7b1",
   "metadata": {},
   "outputs": [
    {
     "name": "stdout",
     "output_type": "stream",
     "text": [
      "<class 'pandas.core.frame.DataFrame'>\n",
      "RangeIndex: 9813 entries, 0 to 9812\n",
      "Data columns (total 9 columns):\n",
      " #   Column             Non-Null Count  Dtype  \n",
      "---  ------             --------------  -----  \n",
      " 0   ID                 9813 non-null   int64  \n",
      " 1   Gender             9813 non-null   int64  \n",
      " 2   Years_in_US        1837 non-null   float64\n",
      " 3   Family_income      9051 non-null   float64\n",
      " 4   GlycoHemoglobin    6643 non-null   float64\n",
      " 5   ArmCircum          9301 non-null   float64\n",
      " 6   SaggitalAbdominal  7218 non-null   float64\n",
      " 7   GripStrength       7677 non-null   float64\n",
      " 8   Breast_fed         8661 non-null   float64\n",
      "dtypes: float64(7), int64(2)\n",
      "memory usage: 690.1 KB\n"
     ]
    }
   ],
   "source": [
    "df = df.loc[:, ['ID', 'Gender', 'Years_in_US', 'Family_income','GlycoHemoglobin', 'ArmCircum', \n",
    "                'SaggitalAbdominal', 'GripStrength', 'Breast_fed']]\n",
    "\n",
    "df.info()"
   ]
  },
  {
   "cell_type": "code",
   "execution_count": 17,
   "id": "127427fa",
   "metadata": {},
   "outputs": [
    {
     "data": {
      "text/html": [
       "<div>\n",
       "<style scoped>\n",
       "    .dataframe tbody tr th:only-of-type {\n",
       "        vertical-align: middle;\n",
       "    }\n",
       "\n",
       "    .dataframe tbody tr th {\n",
       "        vertical-align: top;\n",
       "    }\n",
       "\n",
       "    .dataframe thead th {\n",
       "        text-align: right;\n",
       "    }\n",
       "</style>\n",
       "<table border=\"1\" class=\"dataframe\">\n",
       "  <thead>\n",
       "    <tr style=\"text-align: right;\">\n",
       "      <th></th>\n",
       "      <th>ID</th>\n",
       "      <th>Gender</th>\n",
       "      <th>Years_in_US</th>\n",
       "      <th>Family_income</th>\n",
       "      <th>GlycoHemoglobin</th>\n",
       "      <th>ArmCircum</th>\n",
       "      <th>SaggitalAbdominal</th>\n",
       "      <th>GripStrength</th>\n",
       "      <th>Breast_fed</th>\n",
       "    </tr>\n",
       "  </thead>\n",
       "  <tbody>\n",
       "    <tr>\n",
       "      <th>count</th>\n",
       "      <td>9813.000000</td>\n",
       "      <td>9813.000000</td>\n",
       "      <td>1837.000000</td>\n",
       "      <td>9051.000000</td>\n",
       "      <td>6643.000000</td>\n",
       "      <td>9301.000000</td>\n",
       "      <td>7218.000000</td>\n",
       "      <td>7677.000000</td>\n",
       "      <td>8661.000000</td>\n",
       "    </tr>\n",
       "    <tr>\n",
       "      <th>mean</th>\n",
       "      <td>78644.559971</td>\n",
       "      <td>1.509426</td>\n",
       "      <td>8.933043</td>\n",
       "      <td>2.253101</td>\n",
       "      <td>5.642556</td>\n",
       "      <td>28.485765</td>\n",
       "      <td>21.114034</td>\n",
       "      <td>63.054891</td>\n",
       "      <td>1.984528</td>\n",
       "    </tr>\n",
       "    <tr>\n",
       "      <th>std</th>\n",
       "      <td>2938.592266</td>\n",
       "      <td>0.499937</td>\n",
       "      <td>17.787060</td>\n",
       "      <td>1.635458</td>\n",
       "      <td>1.004850</td>\n",
       "      <td>7.961971</td>\n",
       "      <td>4.963949</td>\n",
       "      <td>25.098439</td>\n",
       "      <td>0.123426</td>\n",
       "    </tr>\n",
       "    <tr>\n",
       "      <th>min</th>\n",
       "      <td>73557.000000</td>\n",
       "      <td>1.000000</td>\n",
       "      <td>1.000000</td>\n",
       "      <td>0.000000</td>\n",
       "      <td>3.500000</td>\n",
       "      <td>10.400000</td>\n",
       "      <td>10.100000</td>\n",
       "      <td>8.000000</td>\n",
       "      <td>1.000000</td>\n",
       "    </tr>\n",
       "    <tr>\n",
       "      <th>25%</th>\n",
       "      <td>76092.000000</td>\n",
       "      <td>1.000000</td>\n",
       "      <td>3.000000</td>\n",
       "      <td>0.870000</td>\n",
       "      <td>5.200000</td>\n",
       "      <td>22.600000</td>\n",
       "      <td>17.300000</td>\n",
       "      <td>45.600000</td>\n",
       "      <td>2.000000</td>\n",
       "    </tr>\n",
       "    <tr>\n",
       "      <th>50%</th>\n",
       "      <td>78643.000000</td>\n",
       "      <td>2.000000</td>\n",
       "      <td>5.000000</td>\n",
       "      <td>1.710000</td>\n",
       "      <td>5.400000</td>\n",
       "      <td>29.300000</td>\n",
       "      <td>20.700000</td>\n",
       "      <td>60.300000</td>\n",
       "      <td>2.000000</td>\n",
       "    </tr>\n",
       "    <tr>\n",
       "      <th>75%</th>\n",
       "      <td>81191.000000</td>\n",
       "      <td>2.000000</td>\n",
       "      <td>7.000000</td>\n",
       "      <td>3.610000</td>\n",
       "      <td>5.800000</td>\n",
       "      <td>34.000000</td>\n",
       "      <td>24.400000</td>\n",
       "      <td>80.700000</td>\n",
       "      <td>2.000000</td>\n",
       "    </tr>\n",
       "    <tr>\n",
       "      <th>max</th>\n",
       "      <td>83731.000000</td>\n",
       "      <td>2.000000</td>\n",
       "      <td>99.000000</td>\n",
       "      <td>5.000000</td>\n",
       "      <td>17.500000</td>\n",
       "      <td>59.400000</td>\n",
       "      <td>40.100000</td>\n",
       "      <td>162.800000</td>\n",
       "      <td>2.000000</td>\n",
       "    </tr>\n",
       "  </tbody>\n",
       "</table>\n",
       "</div>"
      ],
      "text/plain": [
       "                 ID       Gender  Years_in_US  Family_income  GlycoHemoglobin  \\\n",
       "count   9813.000000  9813.000000  1837.000000    9051.000000      6643.000000   \n",
       "mean   78644.559971     1.509426     8.933043       2.253101         5.642556   \n",
       "std     2938.592266     0.499937    17.787060       1.635458         1.004850   \n",
       "min    73557.000000     1.000000     1.000000       0.000000         3.500000   \n",
       "25%    76092.000000     1.000000     3.000000       0.870000         5.200000   \n",
       "50%    78643.000000     2.000000     5.000000       1.710000         5.400000   \n",
       "75%    81191.000000     2.000000     7.000000       3.610000         5.800000   \n",
       "max    83731.000000     2.000000    99.000000       5.000000        17.500000   \n",
       "\n",
       "         ArmCircum  SaggitalAbdominal  GripStrength   Breast_fed  \n",
       "count  9301.000000        7218.000000   7677.000000  8661.000000  \n",
       "mean     28.485765          21.114034     63.054891     1.984528  \n",
       "std       7.961971           4.963949     25.098439     0.123426  \n",
       "min      10.400000          10.100000      8.000000     1.000000  \n",
       "25%      22.600000          17.300000     45.600000     2.000000  \n",
       "50%      29.300000          20.700000     60.300000     2.000000  \n",
       "75%      34.000000          24.400000     80.700000     2.000000  \n",
       "max      59.400000          40.100000    162.800000     2.000000  "
      ]
     },
     "execution_count": 17,
     "metadata": {},
     "output_type": "execute_result"
    }
   ],
   "source": [
    "df.describe()"
   ]
  },
  {
   "cell_type": "markdown",
   "id": "ce4631a3",
   "metadata": {},
   "source": [
    "**Handling Missing Values**"
   ]
  },
  {
   "cell_type": "code",
   "execution_count": 18,
   "id": "ac791236",
   "metadata": {},
   "outputs": [],
   "source": [
    "# drop columns and rows if all cells is NaN\n",
    "df.dropna(axis=1, how='all') # dropna from columns\n",
    "df.dropna(axis=0, how='all') # dropna from rows\n",
    "\n",
    "# replace Nan with median\n",
    "df[\"GlycoHemoglobin\"].fillna(df[\"GlycoHemoglobin\"].median(), inplace=True)\n",
    "df['SaggitalAbdominal'].fillna(df['SaggitalAbdominal'].median(), inplace=True)\n",
    "df['ArmCircum'].fillna(df['ArmCircum'].median(), inplace=True)\n",
    "df['GripStrength'].fillna(df['GripStrength'].median(), inplace=True)\n",
    "\n",
    "# replace Nan with ffill\n",
    "df['Family_income'].fillna(method='ffill', inplace=True)\n",
    "\n",
    "# replace Nan with 1\n",
    "df['Breast_fed'].fillna(value = 1, inplace=True)\n",
    "\n",
    "# replace Nan with 0\n",
    "df['Years_in_US'] = df['Years_in_US'].apply(lambda x: x if x > 0 else 0)"
   ]
  },
  {
   "cell_type": "markdown",
   "id": "3bb9cf06",
   "metadata": {},
   "source": [
    "**Define Label with 3 categories**"
   ]
  },
  {
   "cell_type": "code",
   "execution_count": 19,
   "id": "7e9fa15d",
   "metadata": {},
   "outputs": [],
   "source": [
    "#0-> Normal status \n",
    "#1-> High-risk diabetes \n",
    "#2-> Diabetes patients\n",
    "\n",
    "df.loc[df['GlycoHemoglobin'] < 6.0, 'Diabetes'] = 0\n",
    "df.loc[(df['GlycoHemoglobin'] >= 6.0) & (df['GlycoHemoglobin'] <= 6.4), 'Diabetes'] = 1\n",
    "df.loc[df['GlycoHemoglobin'] >= 6.5, 'Diabetes'] = 2\n",
    "\n",
    "# drop GlycoHemoglobin and ID to avoid bias\n",
    "df.drop(['GlycoHemoglobin', 'ID'], axis = 1, inplace=True)"
   ]
  },
  {
   "cell_type": "markdown",
   "id": "035b8e3a",
   "metadata": {},
   "source": [
    "# Site of changes"
   ]
  },
  {
   "cell_type": "code",
   "execution_count": 20,
   "id": "c8c2f2b2",
   "metadata": {},
   "outputs": [
    {
     "data": {
      "text/plain": [
       "([<matplotlib.patches.Wedge at 0x23ba5870910>,\n",
       "  <matplotlib.patches.Wedge at 0x23ba5865340>,\n",
       "  <matplotlib.patches.Wedge at 0x23ba5865520>],\n",
       " [Text(-1.021002339427538, 0.40933387702888036, '87.86%, No-diabetes'),\n",
       "  Text(0.9265540885098532, -0.59287226370077, '6.16%, High-risk diabetes'),\n",
       "  Text(1.0806332747227252, -0.20550359014391814, '5.98%, Diabetic patients')])"
      ]
     },
     "execution_count": 20,
     "metadata": {},
     "output_type": "execute_result"
    },
    {
     "data": {
      "image/png": "[encoded data removed]",
      "text/plain": [
       "<Figure size 432x288 with 1 Axes>"
      ]
     },
     "metadata": {},
     "output_type": "display_data"
    }
   ],
   "source": [
    "#df[\"Diabetes\"] = df[\"Diabetes\"].astype('int').astype('category')\n",
    "y = df[[\"Diabetes\"]].value_counts()\n",
    "l = [\"87.86%, No-diabetes\", \"6.16%, High-risk diabetes\", \"5.98%, Diabetic patients\"]\n",
    "#y =np.array([8622, ])\n",
    "plt.pie(y, labels = l)\n",
    "\n"
   ]
  },
  {
   "cell_type": "code",
   "execution_count": 21,
   "id": "be715c3e",
   "metadata": {},
   "outputs": [
    {
     "data": {
      "text/html": [
       "<div>\n",
       "<style scoped>\n",
       "    .dataframe tbody tr th:only-of-type {\n",
       "        vertical-align: middle;\n",
       "    }\n",
       "\n",
       "    .dataframe tbody tr th {\n",
       "        vertical-align: top;\n",
       "    }\n",
       "\n",
       "    .dataframe thead th {\n",
       "        text-align: right;\n",
       "    }\n",
       "</style>\n",
       "<table border=\"1\" class=\"dataframe\">\n",
       "  <thead>\n",
       "    <tr style=\"text-align: right;\">\n",
       "      <th></th>\n",
       "      <th>Gender</th>\n",
       "      <th>Years_in_US</th>\n",
       "      <th>Family_income</th>\n",
       "      <th>ArmCircum</th>\n",
       "      <th>SaggitalAbdominal</th>\n",
       "      <th>GripStrength</th>\n",
       "      <th>Breast_fed</th>\n",
       "      <th>Diabetes</th>\n",
       "    </tr>\n",
       "  </thead>\n",
       "  <tbody>\n",
       "    <tr>\n",
       "      <th>count</th>\n",
       "      <td>9813.000000</td>\n",
       "      <td>9813.000000</td>\n",
       "      <td>9813.000000</td>\n",
       "      <td>9813.000000</td>\n",
       "      <td>9813.000000</td>\n",
       "      <td>9813.000000</td>\n",
       "      <td>9813.000000</td>\n",
       "      <td>9813.000000</td>\n",
       "    </tr>\n",
       "    <tr>\n",
       "      <th>mean</th>\n",
       "      <td>1.509426</td>\n",
       "      <td>1.672271</td>\n",
       "      <td>2.246973</td>\n",
       "      <td>28.528248</td>\n",
       "      <td>21.004545</td>\n",
       "      <td>62.455233</td>\n",
       "      <td>1.868949</td>\n",
       "      <td>0.182921</td>\n",
       "    </tr>\n",
       "    <tr>\n",
       "      <th>std</th>\n",
       "      <td>0.499937</td>\n",
       "      <td>8.446506</td>\n",
       "      <td>1.635495</td>\n",
       "      <td>7.753571</td>\n",
       "      <td>4.261142</td>\n",
       "      <td>22.228196</td>\n",
       "      <td>0.337473</td>\n",
       "      <td>0.522102</td>\n",
       "    </tr>\n",
       "    <tr>\n",
       "      <th>min</th>\n",
       "      <td>1.000000</td>\n",
       "      <td>0.000000</td>\n",
       "      <td>0.000000</td>\n",
       "      <td>10.400000</td>\n",
       "      <td>10.100000</td>\n",
       "      <td>8.000000</td>\n",
       "      <td>1.000000</td>\n",
       "      <td>0.000000</td>\n",
       "    </tr>\n",
       "    <tr>\n",
       "      <th>25%</th>\n",
       "      <td>1.000000</td>\n",
       "      <td>0.000000</td>\n",
       "      <td>0.870000</td>\n",
       "      <td>23.200000</td>\n",
       "      <td>18.500000</td>\n",
       "      <td>50.300000</td>\n",
       "      <td>2.000000</td>\n",
       "      <td>0.000000</td>\n",
       "    </tr>\n",
       "    <tr>\n",
       "      <th>50%</th>\n",
       "      <td>2.000000</td>\n",
       "      <td>0.000000</td>\n",
       "      <td>1.700000</td>\n",
       "      <td>29.300000</td>\n",
       "      <td>20.700000</td>\n",
       "      <td>60.300000</td>\n",
       "      <td>2.000000</td>\n",
       "      <td>0.000000</td>\n",
       "    </tr>\n",
       "    <tr>\n",
       "      <th>75%</th>\n",
       "      <td>2.000000</td>\n",
       "      <td>0.000000</td>\n",
       "      <td>3.600000</td>\n",
       "      <td>33.800000</td>\n",
       "      <td>22.900000</td>\n",
       "      <td>73.300000</td>\n",
       "      <td>2.000000</td>\n",
       "      <td>0.000000</td>\n",
       "    </tr>\n",
       "    <tr>\n",
       "      <th>max</th>\n",
       "      <td>2.000000</td>\n",
       "      <td>99.000000</td>\n",
       "      <td>5.000000</td>\n",
       "      <td>59.400000</td>\n",
       "      <td>40.100000</td>\n",
       "      <td>162.800000</td>\n",
       "      <td>2.000000</td>\n",
       "      <td>2.000000</td>\n",
       "    </tr>\n",
       "  </tbody>\n",
       "</table>\n",
       "</div>"
      ],
      "text/plain": [
       "            Gender  Years_in_US  Family_income    ArmCircum  \\\n",
       "count  9813.000000  9813.000000    9813.000000  9813.000000   \n",
       "mean      1.509426     1.672271       2.246973    28.528248   \n",
       "std       0.499937     8.446506       1.635495     7.753571   \n",
       "min       1.000000     0.000000       0.000000    10.400000   \n",
       "25%       1.000000     0.000000       0.870000    23.200000   \n",
       "50%       2.000000     0.000000       1.700000    29.300000   \n",
       "75%       2.000000     0.000000       3.600000    33.800000   \n",
       "max       2.000000    99.000000       5.000000    59.400000   \n",
       "\n",
       "       SaggitalAbdominal  GripStrength   Breast_fed     Diabetes  \n",
       "count        9813.000000   9813.000000  9813.000000  9813.000000  \n",
       "mean           21.004545     62.455233     1.868949     0.182921  \n",
       "std             4.261142     22.228196     0.337473     0.522102  \n",
       "min            10.100000      8.000000     1.000000     0.000000  \n",
       "25%            18.500000     50.300000     2.000000     0.000000  \n",
       "50%            20.700000     60.300000     2.000000     0.000000  \n",
       "75%            22.900000     73.300000     2.000000     0.000000  \n",
       "max            40.100000    162.800000     2.000000     2.000000  "
      ]
     },
     "execution_count": 21,
     "metadata": {},
     "output_type": "execute_result"
    }
   ],
   "source": [
    "df.describe()"
   ]
  },
  {
   "cell_type": "code",
   "execution_count": 22,
   "id": "c7988b65",
   "metadata": {},
   "outputs": [
    {
     "name": "stdout",
     "output_type": "stream",
     "text": [
      "<class 'pandas.core.frame.DataFrame'>\n",
      "RangeIndex: 9813 entries, 0 to 9812\n",
      "Data columns (total 8 columns):\n",
      " #   Column             Non-Null Count  Dtype  \n",
      "---  ------             --------------  -----  \n",
      " 0   Gender             9813 non-null   int64  \n",
      " 1   Years_in_US        9813 non-null   float64\n",
      " 2   Family_income      9813 non-null   float64\n",
      " 3   ArmCircum          9813 non-null   float64\n",
      " 4   SaggitalAbdominal  9813 non-null   float64\n",
      " 5   GripStrength       9813 non-null   float64\n",
      " 6   Breast_fed         9813 non-null   float64\n",
      " 7   Diabetes           9813 non-null   float64\n",
      "dtypes: float64(7), int64(1)\n",
      "memory usage: 613.4 KB\n"
     ]
    }
   ],
   "source": [
    "df.info()"
   ]
  },
  {
   "cell_type": "markdown",
   "id": "48dbec65",
   "metadata": {},
   "source": [
    "# OUTLIER Dectection"
   ]
  },
  {
   "cell_type": "code",
   "execution_count": 23,
   "id": "eb7d5614",
   "metadata": {},
   "outputs": [
    {
     "data": {
      "text/plain": [
       "(array([1, 2, 3, 4, 5, 6, 7, 8]),\n",
       " [Text(1, 0, 'Gender'),\n",
       "  Text(2, 0, 'Years_in_US'),\n",
       "  Text(3, 0, 'Family_income'),\n",
       "  Text(4, 0, 'ArmCircum'),\n",
       "  Text(5, 0, 'SaggitalAbdominal'),\n",
       "  Text(6, 0, 'GripStrength'),\n",
       "  Text(7, 0, 'Breast_fed'),\n",
       "  Text(8, 0, 'Diabetes')])"
      ]
     },
     "execution_count": 23,
     "metadata": {},
     "output_type": "execute_result"
    },
    {
     "data": {
      "image/png": "[encoded data removed]",
      "text/plain": [
       "<Figure size 1800x1080 with 1 Axes>"
      ]
     },
     "metadata": {
      "needs_background": "light"
     },
     "output_type": "display_data"
    }
   ],
   "source": [
    "plt.subplots(figsize=(25,15))\n",
    "df.boxplot(patch_artist=True, sym=\"k.\")\n",
    "plt.xticks(rotation=90)"
   ]
  },
  {
   "cell_type": "markdown",
   "id": "b29bde60",
   "metadata": {},
   "source": [
    "# Remove outlier"
   ]
  },
  {
   "cell_type": "code",
   "execution_count": 24,
   "id": "e8a531de",
   "metadata": {},
   "outputs": [],
   "source": [
    "minimum = 0\n",
    "maximum = 0\n",
    "\n",
    "def detect_outlier(feature):\n",
    "    first_q = np.percentile(feature, 25)\n",
    "    third_q = np.percentile(feature, 75) \n",
    "    IQR = third_q - first_q\n",
    "    IQR *= 1.5\n",
    "    minimum = first_q - IQR \n",
    "    maximum = third_q + IQR\n",
    "    flag = False\n",
    "    \n",
    "    if(minimum > np.min(feature)):\n",
    "        flag = True\n",
    "    if(maximum < np.max(feature)):\n",
    "        flag = True\n",
    "    \n",
    "    return flag"
   ]
  },
  {
   "cell_type": "code",
   "execution_count": 25,
   "id": "f73ec663",
   "metadata": {},
   "outputs": [],
   "source": [
    "def  remove_outlier(feature):\n",
    "    first_q = np.percentile(X[feature], 25)\n",
    "    third_q = np.percentile(X[feature], 75)\n",
    "    IQR = third_q - first_q\n",
    "    IQR *= 1.5\n",
    "    \n",
    "    minimum = first_q - IQR # the acceptable minimum value\n",
    "    maximum = third_q + IQR # the acceptable maximum value\n",
    "    \n",
    "    median = X[feature].median()\n",
    "    \n",
    "    \"\"\"\n",
    "    # any value beyond the acceptance range are considered\n",
    "    as outliers. \n",
    "    # we replace the outliers with the median value of that \n",
    "      feature.\n",
    "    \"\"\"\n",
    "    \n",
    "    X.loc[X[feature] < minimum, feature] = median \n",
    "    X.loc[X[feature] > maximum, feature] = median\n",
    "\n",
    "# taking all the columns except the last one\n",
    "# last column is the label\n",
    "\n",
    "X = df.iloc[:, :-1]\n",
    "for i in range(len(X.columns)): \n",
    "        remove_outlier(X.columns[i])"
   ]
  },
  {
   "cell_type": "code",
   "execution_count": 26,
   "id": "f9403e1a",
   "metadata": {},
   "outputs": [],
   "source": [
    "X = df.iloc[:, :-1]"
   ]
  },
  {
   "cell_type": "markdown",
   "id": "66c25c51",
   "metadata": {},
   "source": [
    "**Print Features that Contains Outlier**"
   ]
  },
  {
   "cell_type": "code",
   "execution_count": 27,
   "id": "a72d4299",
   "metadata": {},
   "outputs": [
    {
     "name": "stdout",
     "output_type": "stream",
     "text": [
      "Years_in_US Contains Outlier\n",
      "ArmCircum Contains Outlier\n",
      "SaggitalAbdominal Contains Outlier\n",
      "GripStrength Contains Outlier\n",
      "Breast_fed Contains Outlier\n"
     ]
    }
   ],
   "source": [
    "for i in range(len(X.columns)):\n",
    "    if(detect_outlier(X[X.columns[i]])):\n",
    "        print(X.columns[i], \"Contains Outlier\")"
   ]
  },
  {
   "cell_type": "markdown",
   "id": "ac29f452",
   "metadata": {},
   "source": [
    "**Remove Outliers**"
   ]
  },
  {
   "cell_type": "code",
   "execution_count": 28,
   "id": "5609add1",
   "metadata": {},
   "outputs": [],
   "source": [
    "for i in range (50):\n",
    "    for i in range(len(X.columns)):\n",
    "        remove_outlier(X.columns[i])"
   ]
  },
  {
   "cell_type": "code",
   "execution_count": 29,
   "id": "b80169e7",
   "metadata": {},
   "outputs": [
    {
     "data": {
      "text/plain": [
       "(array([1, 2, 3, 4, 5, 6, 7]),\n",
       " [Text(1, 0, 'Gender'),\n",
       "  Text(2, 0, 'Years_in_US'),\n",
       "  Text(3, 0, 'Family_income'),\n",
       "  Text(4, 0, 'ArmCircum'),\n",
       "  Text(5, 0, 'SaggitalAbdominal'),\n",
       "  Text(6, 0, 'GripStrength'),\n",
       "  Text(7, 0, 'Breast_fed')])"
      ]
     },
     "execution_count": 29,
     "metadata": {},
     "output_type": "execute_result"
    },
    {
     "data": {
      "image/png": "[encoded data removed]",
      "text/plain": [
       "<Figure size 1080x432 with 1 Axes>"
      ]
     },
     "metadata": {
      "needs_background": "light"
     },
     "output_type": "display_data"
    }
   ],
   "source": [
    "plt.subplots(figsize=(15,6))\n",
    "X.boxplot(patch_artist=True, sym=\"k.\")\n",
    "plt.xticks(rotation=90)"
   ]
  },
  {
   "cell_type": "code",
   "execution_count": 30,
   "id": "14d229f1",
   "metadata": {},
   "outputs": [],
   "source": [
    "import numpy as np \n",
    "import pandas as pd\n",
    "import matplotlib.pyplot as plt\n",
    "%matplotlib inline\n",
    "\n",
    "import seaborn as sns\n",
    "sns.set()\n",
    "from sklearn.preprocessing import MinMaxScaler, StandardScaler, LabelEncoder\n",
    "from sklearn.svm import SVC\n",
    "from sklearn.naive_bayes import GaussianNB\n",
    "from sklearn.linear_model import LogisticRegression\n",
    "#from xgboost import XGBClassifier, plot_importance\n",
    "from sklearn.model_selection import train_test_split\n",
    "from sklearn.metrics import accuracy_score,confusion_matrix"
   ]
  },
  {
   "cell_type": "markdown",
   "id": "467c2c7d",
   "metadata": {},
   "source": [
    "**Standardize the Predictors**"
   ]
  },
  {
   "cell_type": "code",
   "execution_count": 31,
   "id": "04e10ca4",
   "metadata": {},
   "outputs": [
    {
     "data": {
      "text/html": [
       "<div>\n",
       "<style scoped>\n",
       "    .dataframe tbody tr th:only-of-type {\n",
       "        vertical-align: middle;\n",
       "    }\n",
       "\n",
       "    .dataframe tbody tr th {\n",
       "        vertical-align: top;\n",
       "    }\n",
       "\n",
       "    .dataframe thead th {\n",
       "        text-align: right;\n",
       "    }\n",
       "</style>\n",
       "<table border=\"1\" class=\"dataframe\">\n",
       "  <thead>\n",
       "    <tr style=\"text-align: right;\">\n",
       "      <th></th>\n",
       "      <th>Gender</th>\n",
       "      <th>Years_in_US</th>\n",
       "      <th>Family_income</th>\n",
       "      <th>ArmCircum</th>\n",
       "      <th>SaggitalAbdominal</th>\n",
       "      <th>GripStrength</th>\n",
       "      <th>Breast_fed</th>\n",
       "    </tr>\n",
       "  </thead>\n",
       "  <tbody>\n",
       "    <tr>\n",
       "      <th>0</th>\n",
       "      <td>-1.019034</td>\n",
       "      <td>0.0</td>\n",
       "      <td>-0.860318</td>\n",
       "      <td>0.905019</td>\n",
       "      <td>0.0</td>\n",
       "      <td>1.0</td>\n",
       "      <td>0.0</td>\n",
       "    </tr>\n",
       "    <tr>\n",
       "      <th>1</th>\n",
       "      <td>-1.019034</td>\n",
       "      <td>0.0</td>\n",
       "      <td>-0.285539</td>\n",
       "      <td>0.825996</td>\n",
       "      <td>0.0</td>\n",
       "      <td>1.0</td>\n",
       "      <td>0.0</td>\n",
       "    </tr>\n",
       "    <tr>\n",
       "      <th>2</th>\n",
       "      <td>-1.019034</td>\n",
       "      <td>0.0</td>\n",
       "      <td>1.383766</td>\n",
       "      <td>0.667950</td>\n",
       "      <td>0.0</td>\n",
       "      <td>1.0</td>\n",
       "      <td>0.0</td>\n",
       "    </tr>\n",
       "    <tr>\n",
       "      <th>3</th>\n",
       "      <td>-1.019034</td>\n",
       "      <td>0.0</td>\n",
       "      <td>0.166947</td>\n",
       "      <td>-0.978367</td>\n",
       "      <td>0.0</td>\n",
       "      <td>1.0</td>\n",
       "      <td>0.0</td>\n",
       "    </tr>\n",
       "    <tr>\n",
       "      <th>4</th>\n",
       "      <td>0.981322</td>\n",
       "      <td>0.0</td>\n",
       "      <td>1.683385</td>\n",
       "      <td>-0.425204</td>\n",
       "      <td>0.0</td>\n",
       "      <td>1.0</td>\n",
       "      <td>0.0</td>\n",
       "    </tr>\n",
       "  </tbody>\n",
       "</table>\n",
       "</div>"
      ],
      "text/plain": [
       "     Gender  Years_in_US  Family_income  ArmCircum  SaggitalAbdominal  \\\n",
       "0 -1.019034          0.0      -0.860318   0.905019                0.0   \n",
       "1 -1.019034          0.0      -0.285539   0.825996                0.0   \n",
       "2 -1.019034          0.0       1.383766   0.667950                0.0   \n",
       "3 -1.019034          0.0       0.166947  -0.978367                0.0   \n",
       "4  0.981322          0.0       1.683385  -0.425204                0.0   \n",
       "\n",
       "   GripStrength  Breast_fed  \n",
       "0           1.0         0.0  \n",
       "1           1.0         0.0  \n",
       "2           1.0         0.0  \n",
       "3           1.0         0.0  \n",
       "4           1.0         0.0  "
      ]
     },
     "execution_count": 31,
     "metadata": {},
     "output_type": "execute_result"
    }
   ],
   "source": [
    "scaler = StandardScaler()\n",
    "scaled_data = scaler.fit_transform(X)\n",
    "scaled_df = pd.DataFrame(data = scaled_data, columns = X.columns)\n",
    "scaled_df.head()"
   ]
  },
  {
   "cell_type": "code",
   "execution_count": 32,
   "id": "36986783",
   "metadata": {},
   "outputs": [],
   "source": [
    "label = df[\"Diabetes\"]"
   ]
  },
  {
   "cell_type": "code",
   "execution_count": 33,
   "id": "543c349e",
   "metadata": {},
   "outputs": [],
   "source": [
    "encoder = LabelEncoder()\n",
    "label = encoder.fit_transform(label)"
   ]
  },
  {
   "cell_type": "markdown",
   "id": "be241065",
   "metadata": {},
   "source": [
    "# Slip Dataset"
   ]
  },
  {
   "cell_type": "code",
   "execution_count": 34,
   "id": "71e5612c",
   "metadata": {},
   "outputs": [],
   "source": [
    "X = scaled_df\n",
    "y = label\n",
    "\n",
    "X_train, X_test, y_train, y_test = train_test_split(X, y, test_size=0.2, random_state=420)"
   ]
  },
  {
   "cell_type": "code",
   "execution_count": 35,
   "id": "8e1585f6",
   "metadata": {},
   "outputs": [
    {
     "name": "stdout",
     "output_type": "stream",
     "text": [
      "(7850, 7) (1963, 7)\n",
      "(7850,) (1963,)\n"
     ]
    }
   ],
   "source": [
    "print(X_train.shape, X_test.shape)\n",
    "print(y_train.shape, y_test.shape)"
   ]
  },
  {
   "cell_type": "markdown",
   "id": "31dee171",
   "metadata": {},
   "source": [
    "# Risk Factor Analysis: Risk Factors and their F-Scores"
   ]
  },
  {
   "cell_type": "code",
   "execution_count": 36,
   "id": "af32fdf9",
   "metadata": {},
   "outputs": [
    {
     "name": "stderr",
     "output_type": "stream",
     "text": [
      "C:\\ProgramData\\Anaconda3\\lib\\site-packages\\sklearn\\feature_selection\\_univariate_selection.py:114: UserWarning: Features [1 4 5 6] are constant.\n",
      "  warnings.warn(\"Features %s are constant.\" % constant_features_idx,\n",
      "C:\\ProgramData\\Anaconda3\\lib\\site-packages\\sklearn\\feature_selection\\_univariate_selection.py:116: RuntimeWarning: invalid value encountered in true_divide\n",
      "  f = msb / msw\n"
     ]
    },
    {
     "data": {
      "text/plain": [
       "array([[-1.01903365, -0.86031764,  0.9050193 ,  1.        ,  0.        ],\n",
       "       [-1.01903365, -0.28553877,  0.82599612,  1.        ,  0.        ],\n",
       "       [-1.01903365,  1.38376582,  0.66794975,  1.        ,  0.        ],\n",
       "       ...,\n",
       "       [-1.01903365,  1.6833846 ,  1.12891831,  1.        ,  0.        ],\n",
       "       [ 0.98132186, -0.43840549, -1.24177713,  1.        ,  0.        ],\n",
       "       [ 0.98132186,  0.74172559, -0.45154531,  1.        ,  0.        ]])"
      ]
     },
     "execution_count": 36,
     "metadata": {},
     "output_type": "execute_result"
    }
   ],
   "source": [
    "from sklearn.feature_selection import SelectKBest\n",
    "from sklearn.feature_selection import f_classif\n",
    "\n",
    "xnew2=SelectKBest(f_classif, k=5).fit_transform(X, y)\n",
    "xnew2"
   ]
  },
  {
   "cell_type": "code",
   "execution_count": 37,
   "id": "57ec9be6",
   "metadata": {},
   "outputs": [
    {
     "name": "stdout",
     "output_type": "stream",
     "text": [
      "            Features    F_Scores\n",
      "3          ArmCircum  435.144494\n",
      "2      Family_income    2.779280\n",
      "0             Gender    1.781081\n",
      "6         Breast_fed         NaN\n",
      "5       GripStrength         NaN\n",
      "4  SaggitalAbdominal         NaN\n",
      "1        Years_in_US         NaN\n"
     ]
    },
    {
     "name": "stderr",
     "output_type": "stream",
     "text": [
      "C:\\ProgramData\\Anaconda3\\lib\\site-packages\\sklearn\\feature_selection\\_univariate_selection.py:114: UserWarning: Features [1 4 5 6] are constant.\n",
      "  warnings.warn(\"Features %s are constant.\" % constant_features_idx,\n",
      "C:\\ProgramData\\Anaconda3\\lib\\site-packages\\sklearn\\feature_selection\\_univariate_selection.py:116: RuntimeWarning: invalid value encountered in true_divide\n",
      "  f = msb / msw\n"
     ]
    }
   ],
   "source": [
    "import sklearn.feature_selection as fs\n",
    "import matplotlib.pyplot as plt\n",
    "df2 = fs.SelectKBest(k='all')\n",
    "df2.fit(X, y)\n",
    "\n",
    "names = X.columns.values[df2.get_support()]\n",
    "scores = df2.scores_[df2.get_support()]\n",
    "\n",
    "names_scores = list(zip(names, scores))\n",
    "\n",
    "ns_df = pd.DataFrame(data = names_scores, columns=['Features','F_Scores'])\n",
    "\n",
    "ns_df_sorted = ns_df.sort_values(['F_Scores','Features'], ascending =[False, True])\n",
    "\n",
    "print(ns_df_sorted)"
   ]
  },
  {
   "cell_type": "markdown",
   "id": "38e7c01d",
   "metadata": {},
   "source": [
    "# Risk Factor Analysis: Identify Risk Factors and their P-Value"
   ]
  },
  {
   "cell_type": "code",
   "execution_count": 38,
   "id": "e1a16f88",
   "metadata": {},
   "outputs": [
    {
     "name": "stdout",
     "output_type": "stream",
     "text": [
      "                  Results: Ordinary least squares\n",
      "===================================================================\n",
      "Model:              OLS              Adj. R-squared:     0.073     \n",
      "Dependent Variable: y                AIC:                11544.9310\n",
      "Date:               2022-05-01 23:34 BIC:                11572.8041\n",
      "No. Observations:   7850             Log-Likelihood:     -5768.5   \n",
      "Df Model:           3                F-statistic:        208.1     \n",
      "Df Residuals:       7846             Prob (F-statistic): 7.14e-130 \n",
      "R-squared:          0.074            Scale:              0.25469   \n",
      "-------------------------------------------------------------------\n",
      "                      Coef.  Std.Err.    t    P>|t|   [0.025 0.975]\n",
      "-------------------------------------------------------------------\n",
      "Gender               -0.0049   0.0057 -0.8648 0.3872 -0.0161 0.0062\n",
      "Years_in_US           0.0000   0.0000  7.5567 0.0000  0.0000 0.0000\n",
      "Family_income        -0.0035   0.0057 -0.6081 0.5432 -0.0146 0.0077\n",
      "ArmCircum             0.1427   0.0057 24.9727 0.0000  0.1315 0.1539\n",
      "SaggitalAbdominal     0.0000   0.0000     nan    nan  0.0000 0.0000\n",
      "GripStrength          0.1854   0.0057 32.5494 0.0000  0.1742 0.1966\n",
      "Breast_fed            0.0000   0.0000     nan    nan  0.0000 0.0000\n",
      "-------------------------------------------------------------------\n",
      "Omnibus:             3841.581      Durbin-Watson:         2.036    \n",
      "Prob(Omnibus):       0.000         Jarque-Bera (JB):      17660.102\n",
      "Skew:                2.468         Prob(JB):              0.000    \n",
      "Kurtosis:            8.442         Condition No.:         inf      \n",
      "===================================================================\n",
      "* The condition number is large (inf). This might indicate\n",
      "strong multicollinearity or other numerical problems.\n"
     ]
    },
    {
     "name": "stderr",
     "output_type": "stream",
     "text": [
      "C:\\ProgramData\\Anaconda3\\lib\\site-packages\\statsmodels\\regression\\linear_model.py:1860: RuntimeWarning: divide by zero encountered in double_scalars\n",
      "  return np.sqrt(eigvals[0]/eigvals[-1])\n"
     ]
    }
   ],
   "source": [
    "import statsmodels.api as sm\n",
    "import pandas\n",
    "from patsy import dmatrices\n",
    "\n",
    "logit_model = sm.OLS(y_train, X_train)\n",
    "result = logit_model.fit()\n",
    "print(result.summary2())"
   ]
  },
  {
   "cell_type": "code",
   "execution_count": 39,
   "id": "a0eaff91",
   "metadata": {},
   "outputs": [
    {
     "data": {
      "text/plain": [
       "Gender               0.995084\n",
       "Years_in_US          1.000000\n",
       "Family_income        0.996555\n",
       "ArmCircum            1.153343\n",
       "SaggitalAbdominal    1.000000\n",
       "GripStrength         1.203710\n",
       "Breast_fed           1.000000\n",
       "dtype: float64"
      ]
     },
     "execution_count": 39,
     "metadata": {},
     "output_type": "execute_result"
    }
   ],
   "source": [
    "np.exp(result.params)"
   ]
  },
  {
   "cell_type": "code",
   "execution_count": 40,
   "id": "b1d98a40",
   "metadata": {},
   "outputs": [
    {
     "name": "stdout",
     "output_type": "stream",
     "text": [
      "                         5%       95%  Odds Ratio\n",
      "Gender             0.984031  1.006262    0.995084\n",
      "Years_in_US        1.000000  1.000000    1.000000\n",
      "Family_income      0.985529  1.007704    0.996555\n",
      "ArmCircum          1.140499  1.166332    1.153343\n",
      "SaggitalAbdominal  1.000000  1.000000    1.000000\n",
      "GripStrength       1.190344  1.217226    1.203710\n",
      "Breast_fed         1.000000  1.000000    1.000000\n"
     ]
    }
   ],
   "source": [
    "params = result.params\n",
    "conf = result.conf_int()\n",
    "conf['Odds Ratio'] = params\n",
    "conf.columns = ['5%', '95%', 'Odds Ratio']\n",
    "print(np.exp(conf))"
   ]
  },
  {
   "cell_type": "code",
   "execution_count": 41,
   "id": "58c31a29",
   "metadata": {},
   "outputs": [
    {
     "data": {
      "text/plain": [
       "GripStrength         4.162826e-218\n",
       "ArmCircum            1.630400e-132\n",
       "Years_in_US           4.600007e-14\n",
       "Gender                3.871657e-01\n",
       "Family_income         5.431664e-01\n",
       "SaggitalAbdominal              NaN\n",
       "Breast_fed                     NaN\n",
       "dtype: float64"
      ]
     },
     "execution_count": 41,
     "metadata": {},
     "output_type": "execute_result"
    }
   ],
   "source": [
    "result.pvalues.sort_values()"
   ]
  },
  {
   "cell_type": "markdown",
   "id": "accc7c30",
   "metadata": {},
   "source": [
    "# Class Imbalance: Assign Class Weights"
   ]
  },
  {
   "cell_type": "code",
   "execution_count": 42,
   "id": "c62f9fe8",
   "metadata": {},
   "outputs": [
    {
     "name": "stdout",
     "output_type": "stream",
     "text": [
      "Best parameters : {'class_weight': {0: 0.95, 1: 0.05, 2: 0.95}}\n"
     ]
    },
    {
     "data": {
      "text/plain": [
       "<AxesSubplot:xlabel='weight'>"
      ]
     },
     "execution_count": 42,
     "metadata": {},
     "output_type": "execute_result"
    },
    {
     "data": {
      "image/png": "[encoded data removed]",
      "text/plain": [
       "<Figure size 432x288 with 1 Axes>"
      ]
     },
     "metadata": {},
     "output_type": "display_data"
    }
   ],
   "source": [
    "from sklearn.model_selection import GridSearchCV\n",
    "\n",
    "weights = np.linspace(0.05, 0.95, 20)\n",
    "\n",
    "gsc = GridSearchCV(\n",
    "    estimator=LogisticRegression(),\n",
    "    param_grid={'class_weight': [{0: 1.0-x, 1: x, 2: 1.0-x} for x in weights]},\n",
    "    scoring='accuracy',\n",
    "    cv=10)\n",
    "\n",
    "grid_result = gsc.fit(X, y)\n",
    "\n",
    "print(\"Best parameters : %s\" % grid_result.best_params_)\n",
    "\n",
    "# Plot the weights vs f1 score\n",
    "dataz = pd.DataFrame({'score': grid_result.cv_results_['mean_test_score'],\n",
    "                    'weight': weights })\n",
    "dataz.plot(x='weight')"
   ]
  },
  {
   "cell_type": "code",
   "execution_count": 43,
   "id": "72635ff4",
   "metadata": {},
   "outputs": [],
   "source": [
    "class_weight = {0: 0.95,\n",
    "               1: 0.05,\n",
    "               2: 0.95}"
   ]
  },
  {
   "cell_type": "code",
   "execution_count": 44,
   "id": "e9cc93dc",
   "metadata": {},
   "outputs": [
    {
     "data": {
      "text/plain": [
       "Diabetes\n",
       "0.0         8622\n",
       "2.0          604\n",
       "1.0          587\n",
       "dtype: int64"
      ]
     },
     "execution_count": 44,
     "metadata": {},
     "output_type": "execute_result"
    }
   ],
   "source": [
    "df[[\"Diabetes\"]].value_counts()"
   ]
  },
  {
   "cell_type": "markdown",
   "id": "932d6e66",
   "metadata": {},
   "source": [
    "# Train Model"
   ]
  },
  {
   "cell_type": "markdown",
   "id": "74d168c2",
   "metadata": {},
   "source": [
    "## Logistic Regression"
   ]
  },
  {
   "cell_type": "code",
   "execution_count": 45,
   "id": "32486eef",
   "metadata": {
    "scrolled": true
   },
   "outputs": [
    {
     "name": "stdout",
     "output_type": "stream",
     "text": [
      "              precision    recall  f1-score   support\n",
      "\n",
      "           0       0.96      0.65      0.78      1741\n",
      "           1       0.08      0.23      0.12       104\n",
      "           2       0.11      0.47      0.18       118\n",
      "\n",
      "    accuracy                           0.62      1963\n",
      "   macro avg       0.39      0.45      0.36      1963\n",
      "weighted avg       0.87      0.62      0.71      1963\n",
      "\n"
     ]
    },
    {
     "data": {
      "text/plain": [
       "(<Figure size 432x288 with 1 Axes>,\n",
       " <AxesSubplot:xlabel='predicted label', ylabel='true label'>)"
      ]
     },
     "execution_count": 45,
     "metadata": {},
     "output_type": "execute_result"
    },
    {
     "data": {
      "image/png": "[encoded data removed]",
      "text/plain": [
       "<Figure size 432x288 with 1 Axes>"
      ]
     },
     "metadata": {},
     "output_type": "display_data"
    }
   ],
   "source": [
    "from sklearn.linear_model import LogisticRegression\n",
    "from sklearn.metrics import confusion_matrix, classification_report\n",
    "from mlxtend.plotting import plot_decision_regions, plot_confusion_matrix\n",
    "from matplotlib import pyplot as plt\n",
    "lr = LogisticRegression(class_weight='balanced', random_state=420)\n",
    "\n",
    "# Fit..\n",
    "lr.fit(X_train, y_train)\n",
    "\n",
    "# Predict..\n",
    "y_pred = lr.predict(X_test)\n",
    "\n",
    "# Evaluate the model\n",
    "print(classification_report(y_test, y_pred))\n",
    "plot_confusion_matrix(confusion_matrix(y_test, y_pred))\n",
    "\n",
    "#from sklearn.metrics import roc_curve, auc\n",
    "#false_positive_rate, true_positive_rate, thresholds = roc_curve(y_test, y_pred)\n",
    "#roc_auc = auc(false_positive_rate, true_positive_rate)\n",
    "#roc_auc"
   ]
  },
  {
   "cell_type": "markdown",
   "id": "0351b5c0",
   "metadata": {},
   "source": [
    "# Support Vector Classifier"
   ]
  },
  {
   "cell_type": "code",
   "execution_count": 46,
   "id": "9700d4ba",
   "metadata": {},
   "outputs": [
    {
     "name": "stdout",
     "output_type": "stream",
     "text": [
      "              precision    recall  f1-score   support\n",
      "\n",
      "           0       0.98      0.44      0.61      1741\n",
      "           1       0.07      0.46      0.13       104\n",
      "           2       0.10      0.43      0.16       118\n",
      "\n",
      "    accuracy                           0.44      1963\n",
      "   macro avg       0.38      0.44      0.30      1963\n",
      "weighted avg       0.88      0.44      0.56      1963\n",
      "\n"
     ]
    },
    {
     "data": {
      "text/plain": [
       "(<Figure size 432x288 with 1 Axes>,\n",
       " <AxesSubplot:xlabel='predicted label', ylabel='true label'>)"
      ]
     },
     "execution_count": 46,
     "metadata": {},
     "output_type": "execute_result"
    },
    {
     "data": {
      "image/png": "[encoded data removed]",
      "text/plain": [
       "<Figure size 432x288 with 1 Axes>"
      ]
     },
     "metadata": {},
     "output_type": "display_data"
    }
   ],
   "source": [
    "from sklearn.svm import SVC\n",
    "\n",
    "clf_svc_rbf = SVC(kernel=\"rbf\",class_weight='balanced',random_state=4200)\n",
    "clf_svc_rbf.fit(X_train,y_train)\n",
    "y_pred_clf_svc_rbf = clf_svc_rbf.predict(X_test)\n",
    "\n",
    "\n",
    "import matplotlib.pyplot as plt\n",
    "cm = confusion_matrix(y_test,y_pred_clf_svc_rbf)\n",
    "\n",
    "#plt.figure(figsize=(5,5))\n",
    "#sns.heatmap(cm,annot=True)\n",
    "#plt.show()\n",
    "\n",
    "#print(classification_report(y_test,y_pred_clf_svc_rbf))\n",
    "\n",
    "print(classification_report(y_test, y_pred_clf_svc_rbf))\n",
    "plot_confusion_matrix(confusion_matrix(y_test, y_pred_clf_svc_rbf))\n",
    "\n",
    "#from sklearn.metrics import roc_curve, auc\n",
    "#false_positive_rate, true_positive_rate, thresholds = roc_curve(y_test, y_pred_clf_svc_rbf)\n",
    "#roc_auc = auc(false_positive_rate, true_positive_rate)\n",
    "#roc_auc"
   ]
  },
  {
   "cell_type": "markdown",
   "id": "e0afdadb",
   "metadata": {},
   "source": [
    "# Random Forest Classifier"
   ]
  },
  {
   "cell_type": "code",
   "execution_count": 47,
   "id": "bf8a4659",
   "metadata": {},
   "outputs": [
    {
     "name": "stdout",
     "output_type": "stream",
     "text": [
      "              precision    recall  f1-score   support\n",
      "\n",
      "           0       0.89      0.94      0.91      1741\n",
      "           1       0.09      0.06      0.07       104\n",
      "           2       0.01      0.01      0.01       118\n",
      "\n",
      "    accuracy                           0.83      1963\n",
      "   macro avg       0.33      0.33      0.33      1963\n",
      "weighted avg       0.80      0.83      0.81      1963\n",
      "\n"
     ]
    },
    {
     "data": {
      "text/plain": [
       "(<Figure size 432x288 with 1 Axes>,\n",
       " <AxesSubplot:xlabel='predicted label', ylabel='true label'>)"
      ]
     },
     "execution_count": 47,
     "metadata": {},
     "output_type": "execute_result"
    },
    {
     "data": {
      "image/png": "[encoded data removed]",
      "text/plain": [
       "<Figure size 432x288 with 1 Axes>"
      ]
     },
     "metadata": {},
     "output_type": "display_data"
    }
   ],
   "source": [
    "from sklearn.ensemble import RandomForestClassifier\n",
    "\n",
    "rd = RandomForestClassifier(class_weight='balanced',random_state=4200)\n",
    "rd.fit(X_train,y_train)\n",
    "y_pred_rd = rd.predict(X_test)\n",
    "\n",
    "\n",
    "import matplotlib.pyplot as plt\n",
    "cm = confusion_matrix(y_test,y_pred_rd)\n",
    "\n",
    "#plt.figure(figsize=(5,5))\n",
    "#sns.heatmap(cm,annot=True,linewidths=.3)\n",
    "#plt.show()\n",
    "\n",
    "print(classification_report(y_test,y_pred_rd))\n",
    "plot_confusion_matrix(confusion_matrix(y_test, y_pred_rd))\n",
    "\n",
    "#from sklearn.metrics import roc_curve, auc\n",
    "#false_positive_rate, true_positive_rate, thresholds = roc_curve(y_test, y_pred_rd)\n",
    "#roc_auc = auc(false_positive_rate, true_positive_rate)\n",
    "#roc_auc"
   ]
  },
  {
   "cell_type": "markdown",
   "id": "773287ba",
   "metadata": {},
   "source": [
    "# Using CV=5 Approach"
   ]
  },
  {
   "cell_type": "markdown",
   "id": "9ebbf66b",
   "metadata": {},
   "source": [
    "**Logistic Regression**"
   ]
  },
  {
   "cell_type": "code",
   "execution_count": 48,
   "id": "1fbb3e4f",
   "metadata": {},
   "outputs": [
    {
     "name": "stdout",
     "output_type": "stream",
     "text": [
      "Accuracy: 0.8806 (0.0035)\n"
     ]
    },
    {
     "data": {
      "text/plain": [
       "array([0.87926643, 0.88741722, 0.87977585, 0.87722873, 0.87926643])"
      ]
     },
     "execution_count": 48,
     "metadata": {},
     "output_type": "execute_result"
    }
   ],
   "source": [
    "from numpy import mean\n",
    "from numpy import std\n",
    "from sklearn.model_selection import KFold\n",
    "from sklearn.model_selection import cross_val_score\n",
    "from sklearn.model_selection import ShuffleSplit\n",
    "from sklearn.linear_model import LogisticRegression\n",
    "\n",
    "# create dataset\n",
    "#X, y = make_classification(n_samples=1000, n_features=20, n_informative=15, n_redundant=5, random_state=1)\n",
    "# prepare the cross-validation procedure\n",
    "#cv = KFold(n_splits=5, test_size= 0.2, random_state=0)\n",
    "\n",
    "cv = ShuffleSplit(n_splits=5, test_size=0.2, random_state=42)\n",
    "\n",
    "# create model\n",
    "model = LogisticRegression(class_weight=class_weight)\n",
    "\n",
    "# evaluate model\n",
    "scores = cross_val_score(model, X, y, scoring='accuracy', cv=cv, n_jobs=-1)\n",
    "\n",
    "# report performance\n",
    "print('Accuracy: %.4f (%.4f)' % (mean(scores), std(scores)))\n",
    "scores"
   ]
  },
  {
   "cell_type": "markdown",
   "id": "cf1b5973",
   "metadata": {},
   "source": [
    "**SVM**"
   ]
  },
  {
   "cell_type": "code",
   "execution_count": 49,
   "id": "13f80b28",
   "metadata": {},
   "outputs": [
    {
     "name": "stdout",
     "output_type": "stream",
     "text": [
      "Accuracy: 0.8805 (0.0036)\n"
     ]
    },
    {
     "data": {
      "text/plain": [
       "array([0.878757  , 0.88741722, 0.87977585, 0.87722873, 0.87926643])"
      ]
     },
     "execution_count": 49,
     "metadata": {},
     "output_type": "execute_result"
    }
   ],
   "source": [
    "# evaluate a logistic regression model using k-fold cross-validation\n",
    "from numpy import mean\n",
    "from numpy import std\n",
    "from sklearn.model_selection import KFold\n",
    "from sklearn.model_selection import cross_val_score\n",
    "from sklearn.model_selection import ShuffleSplit\n",
    "\n",
    "from sklearn.linear_model import LogisticRegression\n",
    "# create dataset\n",
    "#X, y = make_classification(n_samples=1000, n_features=20, n_informative=15, n_redundant=5, random_state=1)\n",
    "# prepare the cross-validation procedure\n",
    "#cv = KFold(n_splits=5, test_size= 0.2, random_state=0)\n",
    "cv = ShuffleSplit(n_splits=5, test_size=0.2, random_state=42)\n",
    "# create model\n",
    "model = SVC(kernel='rbf', C=1, class_weight=class_weight)\n",
    "# evaluate model\n",
    "scores = cross_val_score(model, X, y, scoring='accuracy', cv=cv, n_jobs=-1)\n",
    "# report performance\n",
    "print('Accuracy: %.4f (%.4f)' % (mean(scores), std(scores)))\n",
    "scores"
   ]
  },
  {
   "cell_type": "markdown",
   "id": "8aa62d2f",
   "metadata": {},
   "source": [
    "**Random Forest Classifier**"
   ]
  },
  {
   "cell_type": "code",
   "execution_count": 50,
   "id": "89b9f635",
   "metadata": {},
   "outputs": [
    {
     "name": "stdout",
     "output_type": "stream",
     "text": [
      "Accuracy: 0.8511 (0.0037)\n"
     ]
    },
    {
     "data": {
      "text/plain": [
       "array([0.85175751, 0.85532348, 0.85175751, 0.84411615, 0.85277636])"
      ]
     },
     "execution_count": 50,
     "metadata": {},
     "output_type": "execute_result"
    }
   ],
   "source": [
    "from numpy import mean\n",
    "from numpy import std\n",
    "from sklearn.model_selection import KFold\n",
    "from sklearn.model_selection import cross_val_score\n",
    "from sklearn.model_selection import ShuffleSplit\n",
    "from sklearn.ensemble import RandomForestClassifier\n",
    "\n",
    "# create dataset\n",
    "#X, y = make_classification(n_samples=1000, n_features=20, n_informative=15, n_redundant=5, random_state=1)\n",
    "# prepare the cross-validation procedure\n",
    "#cv = KFold(n_splits=5, test_size= 0.2, random_state=0)\n",
    "cv = ShuffleSplit(n_splits=5, test_size=0.2, random_state=42)\n",
    "# create model\n",
    "model = RandomForestClassifier(class_weight=class_weight)\n",
    "# evaluate model\n",
    "scores = cross_val_score(model, X, y, scoring='accuracy', cv=cv, n_jobs=-1)\n",
    "# report performance\n",
    "print('Accuracy: %.4f (%.4f)' % (mean(scores), std(scores)))\n",
    "scores"
   ]
  },
  {
   "cell_type": "markdown",
   "id": "907f2f86",
   "metadata": {},
   "source": [
    "**Decision Tree**"
   ]
  },
  {
   "cell_type": "code",
   "execution_count": 51,
   "id": "0d3b0ad5",
   "metadata": {},
   "outputs": [
    {
     "name": "stdout",
     "output_type": "stream",
     "text": [
      "Accuracy: 0.7961 (0.0071)\n"
     ]
    },
    {
     "data": {
      "text/plain": [
       "array([0.79572084, 0.79215487, 0.79826796, 0.7865512 , 0.80794702])"
      ]
     },
     "execution_count": 51,
     "metadata": {},
     "output_type": "execute_result"
    }
   ],
   "source": [
    "from numpy import mean\n",
    "from numpy import std\n",
    "from sklearn.model_selection import KFold\n",
    "from sklearn.model_selection import cross_val_score\n",
    "from sklearn.model_selection import ShuffleSplit\n",
    "from sklearn.tree import DecisionTreeClassifier\n",
    "\n",
    "# create dataset\n",
    "#X, y = make_classification(n_samples=1000, n_features=20, n_informative=15, n_redundant=5, random_state=1)\n",
    "# prepare the cross-validation procedure\n",
    "#cv = KFold(n_splits=5, test_size= 0.2, random_state=0)\n",
    "cv = ShuffleSplit(n_splits=5, test_size=0.2, random_state=42)\n",
    "\n",
    "# create model\n",
    "model = DecisionTreeClassifier(class_weight=class_weight)\n",
    "\n",
    "# evaluate model\n",
    "scores = cross_val_score(model, X, y, scoring='accuracy', cv=cv, n_jobs=-1)\n",
    "\n",
    "# report performance\n",
    "print('Accuracy: %.4f (%.4f)' % (mean(scores), std(scores)))\n",
    "scores"
   ]
  },
  {
   "cell_type": "markdown",
   "id": "fbb3acaf",
   "metadata": {},
   "source": [
    "# Ensemble Learning: LR+SVC+RF+DT"
   ]
  },
  {
   "cell_type": "code",
   "execution_count": 52,
   "id": "2d09044a",
   "metadata": {},
   "outputs": [],
   "source": [
    "from sklearn import datasets\n",
    "from sklearn.model_selection import cross_val_score\n",
    "from sklearn.linear_model import LogisticRegression\n",
    "from sklearn.naive_bayes import GaussianNB\n",
    "from sklearn.ensemble import RandomForestClassifier\n",
    "from sklearn.ensemble import VotingClassifier\n",
    "\n",
    "clf1 = SVC(kernel='rbf', C=1, class_weight=class_weight,random_state=42)\n",
    "clf2 = LogisticRegression(class_weight=class_weight,random_state=42)\n",
    "clf3 = RandomForestClassifier(class_weight=class_weight,random_state=42)\n",
    "clf4 = DecisionTreeClassifier(class_weight=class_weight,random_state=42)\n",
    "#clf5 = Sequential()"
   ]
  },
  {
   "cell_type": "code",
   "execution_count": 53,
   "id": "cf894434",
   "metadata": {},
   "outputs": [],
   "source": [
    "eclf = VotingClassifier( estimators=[('svm', clf1), ('lr', clf2), ('rf', clf3), ('dt',clf4)],\n",
    "     voting='hard')"
   ]
  },
  {
   "cell_type": "code",
   "execution_count": 54,
   "id": "f9c183fa",
   "metadata": {},
   "outputs": [
    {
     "name": "stdout",
     "output_type": "stream",
     "text": [
      "Accuracy: 0.8785 (+/- 0.0004) [Ensemble]\n"
     ]
    },
    {
     "data": {
      "text/plain": [
       "array([0.878757  , 0.87824758, 0.87824758, 0.87818552, 0.87920489])"
      ]
     },
     "execution_count": 54,
     "metadata": {},
     "output_type": "execute_result"
    }
   ],
   "source": [
    "for clf, label in zip([clf1, clf2, clf3,clf4 ,eclf], ['SVM', 'LR', 'RF','DT', 'Ensemble']):\n",
    "    scores = cross_val_score(clf, X, y, scoring='accuracy', cv=5)\n",
    "print(\"Accuracy: %0.4f (+/- %0.4f) [%s]\" % (scores.mean(), scores.std(), label))\n",
    "scores"
   ]
  }
 ],
 "metadata": {
  "kernelspec": {
   "display_name": "Python 3",
   "language": "python",
   "name": "python3"
  },
  "language_info": {
   "codemirror_mode": {
    "name": "ipython",
    "version": 3
   },
   "file_extension": ".py",
   "mimetype": "text/x-python",
   "name": "python",
   "nbconvert_exporter": "python",
   "pygments_lexer": "ipython3",
   "version": "3.8.8"
  }
 },
 "nbformat": 4,
 "nbformat_minor": 5
}
